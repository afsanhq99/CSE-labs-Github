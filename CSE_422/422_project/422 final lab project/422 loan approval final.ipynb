{
 "cells": [
  {
   "cell_type": "markdown",
   "id": "80a00a6a",
   "metadata": {},
   "source": [
    "# Import necessary libraries and load the dataset and create to copy to comapre afterwards"
   ]
  },
  {
   "cell_type": "code",
   "execution_count": 30,
   "id": "bf339b73",
   "metadata": {},
   "outputs": [
    {
     "data": {
      "text/html": [
       "<div>\n",
       "<style scoped>\n",
       "    .dataframe tbody tr th:only-of-type {\n",
       "        vertical-align: middle;\n",
       "    }\n",
       "\n",
       "    .dataframe tbody tr th {\n",
       "        vertical-align: top;\n",
       "    }\n",
       "\n",
       "    .dataframe thead th {\n",
       "        text-align: right;\n",
       "    }\n",
       "</style>\n",
       "<table border=\"1\" class=\"dataframe\">\n",
       "  <thead>\n",
       "    <tr style=\"text-align: right;\">\n",
       "      <th></th>\n",
       "      <th>loan_id</th>\n",
       "      <th>no_of_dependents</th>\n",
       "      <th>education</th>\n",
       "      <th>self_employed</th>\n",
       "      <th>income_annum</th>\n",
       "      <th>loan_amount</th>\n",
       "      <th>loan_term</th>\n",
       "      <th>cibil_score</th>\n",
       "      <th>residential_assets_value</th>\n",
       "      <th>commercial_assets_value</th>\n",
       "      <th>luxury_assets_value</th>\n",
       "      <th>bank_asset_value</th>\n",
       "      <th>loan_status</th>\n",
       "    </tr>\n",
       "  </thead>\n",
       "  <tbody>\n",
       "    <tr>\n",
       "      <th>0</th>\n",
       "      <td>1</td>\n",
       "      <td>2.0</td>\n",
       "      <td>Graduate</td>\n",
       "      <td>No</td>\n",
       "      <td>9600000.0</td>\n",
       "      <td>29900000.0</td>\n",
       "      <td>12.0</td>\n",
       "      <td>778.0</td>\n",
       "      <td>2400000.0</td>\n",
       "      <td>17600000.0</td>\n",
       "      <td>22700000.0</td>\n",
       "      <td>8000000.0</td>\n",
       "      <td>Approved</td>\n",
       "    </tr>\n",
       "    <tr>\n",
       "      <th>1</th>\n",
       "      <td>2</td>\n",
       "      <td>0.0</td>\n",
       "      <td>Not Graduate</td>\n",
       "      <td>Yes</td>\n",
       "      <td>4100000.0</td>\n",
       "      <td>12200000.0</td>\n",
       "      <td>8.0</td>\n",
       "      <td>417.0</td>\n",
       "      <td>2700000.0</td>\n",
       "      <td>2200000.0</td>\n",
       "      <td>8800000.0</td>\n",
       "      <td>3300000.0</td>\n",
       "      <td>Rejected</td>\n",
       "    </tr>\n",
       "    <tr>\n",
       "      <th>2</th>\n",
       "      <td>3</td>\n",
       "      <td>3.0</td>\n",
       "      <td>Graduate</td>\n",
       "      <td>No</td>\n",
       "      <td>9100000.0</td>\n",
       "      <td>29700000.0</td>\n",
       "      <td>20.0</td>\n",
       "      <td>506.0</td>\n",
       "      <td>7100000.0</td>\n",
       "      <td>4500000.0</td>\n",
       "      <td>33300000.0</td>\n",
       "      <td>12800000.0</td>\n",
       "      <td>Rejected</td>\n",
       "    </tr>\n",
       "    <tr>\n",
       "      <th>3</th>\n",
       "      <td>4</td>\n",
       "      <td>3.0</td>\n",
       "      <td>Graduate</td>\n",
       "      <td>No</td>\n",
       "      <td>8200000.0</td>\n",
       "      <td>30700000.0</td>\n",
       "      <td>8.0</td>\n",
       "      <td>467.0</td>\n",
       "      <td>18200000.0</td>\n",
       "      <td>3300000.0</td>\n",
       "      <td>23300000.0</td>\n",
       "      <td>7900000.0</td>\n",
       "      <td>Rejected</td>\n",
       "    </tr>\n",
       "    <tr>\n",
       "      <th>4</th>\n",
       "      <td>5</td>\n",
       "      <td>5.0</td>\n",
       "      <td>Not Graduate</td>\n",
       "      <td>Yes</td>\n",
       "      <td>9800000.0</td>\n",
       "      <td>24200000.0</td>\n",
       "      <td>20.0</td>\n",
       "      <td>382.0</td>\n",
       "      <td>12400000.0</td>\n",
       "      <td>8200000.0</td>\n",
       "      <td>29400000.0</td>\n",
       "      <td>5000000.0</td>\n",
       "      <td>Rejected</td>\n",
       "    </tr>\n",
       "  </tbody>\n",
       "</table>\n",
       "</div>"
      ],
      "text/plain": [
       "   loan_id   no_of_dependents      education  self_employed   income_annum  \\\n",
       "0        1                2.0       Graduate             No      9600000.0   \n",
       "1        2                0.0   Not Graduate            Yes      4100000.0   \n",
       "2        3                3.0       Graduate             No      9100000.0   \n",
       "3        4                3.0       Graduate             No      8200000.0   \n",
       "4        5                5.0   Not Graduate            Yes      9800000.0   \n",
       "\n",
       "    loan_amount   loan_term   cibil_score   residential_assets_value  \\\n",
       "0    29900000.0        12.0         778.0                  2400000.0   \n",
       "1    12200000.0         8.0         417.0                  2700000.0   \n",
       "2    29700000.0        20.0         506.0                  7100000.0   \n",
       "3    30700000.0         8.0         467.0                 18200000.0   \n",
       "4    24200000.0        20.0         382.0                 12400000.0   \n",
       "\n",
       "    commercial_assets_value   luxury_assets_value   bank_asset_value  \\\n",
       "0                17600000.0            22700000.0          8000000.0   \n",
       "1                 2200000.0             8800000.0          3300000.0   \n",
       "2                 4500000.0            33300000.0         12800000.0   \n",
       "3                 3300000.0            23300000.0          7900000.0   \n",
       "4                 8200000.0            29400000.0          5000000.0   \n",
       "\n",
       "   loan_status  \n",
       "0     Approved  \n",
       "1     Rejected  \n",
       "2     Rejected  \n",
       "3     Rejected  \n",
       "4     Rejected  "
      ]
     },
     "execution_count": 30,
     "metadata": {},
     "output_type": "execute_result"
    }
   ],
   "source": [
    "import pandas as pd\n",
    "\n",
    "import numpy as np\n",
    "import matplotlib.pyplot as plt\n",
    "import seaborn as sns\n",
    "from sklearn.linear_model import LogisticRegression\n",
    "from sklearn.tree import DecisionTreeClassifier\n",
    "from sklearn.ensemble import RandomForestClassifier\n",
    "from sklearn.metrics import accuracy_score\n",
    "from sklearn.model_selection import train_test_split,RandomizedSearchCV\n",
    "from sklearn.preprocessing import LabelEncoder\n",
    "from sklearn.svm import SVC\n",
    "from sklearn.neighbors import KNeighborsClassifier\n",
    "from sklearn.preprocessing import MinMaxScaler\n",
    "\n",
    "\n",
    "df=pd.read_csv(\"loan_approval_dataset.csv\")\n",
    "df.head()\n",
    "\n",
    "df1_test=df.copy()\n",
    "df.head()\n"
   ]
  },
  {
   "cell_type": "markdown",
   "id": "b8ba059f",
   "metadata": {},
   "source": [
    " #      Check if there is any null values in the dataset"
   ]
  },
  {
   "cell_type": "code",
   "execution_count": 31,
   "id": "135e6b35",
   "metadata": {},
   "outputs": [
    {
     "data": {
      "text/plain": [
       "loan_id                       0\n",
       " no_of_dependents             2\n",
       " education                    4\n",
       " self_employed                5\n",
       " income_annum                 5\n",
       " loan_amount                 16\n",
       " loan_term                    2\n",
       " cibil_score                  2\n",
       " residential_assets_value    13\n",
       " commercial_assets_value     13\n",
       " luxury_assets_value          6\n",
       " bank_asset_value             2\n",
       " loan_status                  0\n",
       "dtype: int64"
      ]
     },
     "execution_count": 31,
     "metadata": {},
     "output_type": "execute_result"
    }
   ],
   "source": [
    "df.isnull().sum()\n",
    "\n"
   ]
  },
  {
   "cell_type": "markdown",
   "id": "ae7a1dfe",
   "metadata": {},
   "source": [
    "# Drop the null values rows as there not many"
   ]
  },
  {
   "cell_type": "code",
   "execution_count": 32,
   "id": "ff845d7a",
   "metadata": {},
   "outputs": [],
   "source": [
    "df.dropna(inplace=True)"
   ]
  },
  {
   "cell_type": "code",
   "execution_count": 33,
   "id": "bfec3d7a",
   "metadata": {},
   "outputs": [
    {
     "data": {
      "text/plain": [
       "loan_id                      0\n",
       " no_of_dependents            0\n",
       " education                   0\n",
       " self_employed               0\n",
       " income_annum                0\n",
       " loan_amount                 0\n",
       " loan_term                   0\n",
       " cibil_score                 0\n",
       " residential_assets_value    0\n",
       " commercial_assets_value     0\n",
       " luxury_assets_value         0\n",
       " bank_asset_value            0\n",
       " loan_status                 0\n",
       "dtype: int64"
      ]
     },
     "execution_count": 33,
     "metadata": {},
     "output_type": "execute_result"
    }
   ],
   "source": [
    "df.isnull().sum()\n",
    "\n"
   ]
  },
  {
   "cell_type": "code",
   "execution_count": 34,
   "id": "1028b8be",
   "metadata": {},
   "outputs": [
    {
     "data": {
      "text/plain": [
       "loan_id                        int64\n",
       " no_of_dependents            float64\n",
       " education                    object\n",
       " self_employed                object\n",
       " income_annum                float64\n",
       " loan_amount                 float64\n",
       " loan_term                   float64\n",
       " cibil_score                 float64\n",
       " residential_assets_value    float64\n",
       " commercial_assets_value     float64\n",
       " luxury_assets_value         float64\n",
       " bank_asset_value            float64\n",
       " loan_status                  object\n",
       "dtype: object"
      ]
     },
     "execution_count": 34,
     "metadata": {},
     "output_type": "execute_result"
    }
   ],
   "source": [
    "df.dtypes\n"
   ]
  },
  {
   "cell_type": "markdown",
   "id": "32f17c00",
   "metadata": {},
   "source": [
    "# Convert the data types  of the columns to int64 for training the model"
   ]
  },
  {
   "cell_type": "code",
   "execution_count": 35,
   "id": "a4baa389",
   "metadata": {},
   "outputs": [
    {
     "data": {
      "text/plain": [
       "loan_id                       int64\n",
       " no_of_dependents             int64\n",
       " education                   object\n",
       " self_employed               object\n",
       " income_annum                 int64\n",
       " loan_amount                  int64\n",
       " loan_term                    int64\n",
       " cibil_score                  int64\n",
       " residential_assets_value     int64\n",
       " commercial_assets_value      int64\n",
       " luxury_assets_value          int64\n",
       " bank_asset_value             int64\n",
       " loan_status                 object\n",
       "dtype: object"
      ]
     },
     "execution_count": 35,
     "metadata": {},
     "output_type": "execute_result"
    }
   ],
   "source": [
    "column_to_convert = [' no_of_dependents',' income_annum',' loan_amount',' loan_term',' cibil_score',' residential_assets_value',\n",
    "                    ' commercial_assets_value',' luxury_assets_value',' bank_asset_value']\n",
    "\n",
    "for i in column_to_convert:\n",
    "    df[i] = df[i].astype(\"int64\")\n",
    "df.dtypes"
   ]
  },
  {
   "cell_type": "markdown",
   "id": "e051814e",
   "metadata": {},
   "source": [
    "# Check if there are any correlation between two columns greater than 0.8"
   ]
  },
  {
   "cell_type": "code",
   "execution_count": 36,
   "id": "91f2272b",
   "metadata": {},
   "outputs": [
    {
     "name": "stdout",
     "output_type": "stream",
     "text": [
      "Columns with correlation greater than 0.80 at least 2 times: [' income_annum', ' loan_amount', ' luxury_assets_value']\n"
     ]
    }
   ],
   "source": [
    "\n",
    "\n",
    "corr=df.corr()\n",
    "corr\n",
    "corr_matrix = df.corr()  # Assuming df is your DataFrame with the correlation matrix\n",
    "\n",
    "# Find columns with correlation greater than 0.7 at least 2 times\n",
    "high_corr_columns = []\n",
    "\n",
    "for column in corr_matrix.columns:\n",
    "    high_corr_count = (corr_matrix[column] > 0.80).sum() - 1  # Exclude self-correlation\n",
    "    if high_corr_count >= 2:\n",
    "        high_corr_columns.append(column)\n",
    "\n",
    "print(\"Columns with correlation greater than 0.80 at least 2 times:\", high_corr_columns)\n",
    "\n"
   ]
  },
  {
   "cell_type": "markdown",
   "id": "b9253261",
   "metadata": {},
   "source": [
    "# Check using heatmap"
   ]
  },
  {
   "cell_type": "code",
   "execution_count": 37,
   "id": "15998804",
   "metadata": {},
   "outputs": [
    {
     "data": {
      "image/png": "[encoded data removed]",
      "text/plain": [
       "<Figure size 720x576 with 2 Axes>"
      ]
     },
     "metadata": {
      "needs_background": "light"
     },
     "output_type": "display_data"
    }
   ],
   "source": [
    "import seaborn as sns\n",
    "import matplotlib.pyplot as plt\n",
    "\n",
    "# Assuming corr is your correlation matrix\n",
    "plt.figure(figsize=(10, 8))  # Adjust the size as needed\n",
    "sns.heatmap(corr, cmap='YlGnBu')\n",
    "\n",
    "plt.show()  # Display the heatmap"
   ]
  },
  {
   "cell_type": "markdown",
   "id": "4c94d483",
   "metadata": {},
   "source": [
    "# Drop the columms"
   ]
  },
  {
   "cell_type": "code",
   "execution_count": 38,
   "id": "da2c94f6",
   "metadata": {},
   "outputs": [],
   "source": [
    "drop=[' income_annum', ' loan_amount', ' luxury_assets_value', ]\n",
    "df=df.drop(drop,axis=1)"
   ]
  },
  {
   "cell_type": "code",
   "execution_count": 39,
   "id": "98794af2",
   "metadata": {},
   "outputs": [
    {
     "data": {
      "text/html": [
       "<div>\n",
       "<style scoped>\n",
       "    .dataframe tbody tr th:only-of-type {\n",
       "        vertical-align: middle;\n",
       "    }\n",
       "\n",
       "    .dataframe tbody tr th {\n",
       "        vertical-align: top;\n",
       "    }\n",
       "\n",
       "    .dataframe thead th {\n",
       "        text-align: right;\n",
       "    }\n",
       "</style>\n",
       "<table border=\"1\" class=\"dataframe\">\n",
       "  <thead>\n",
       "    <tr style=\"text-align: right;\">\n",
       "      <th></th>\n",
       "      <th>education</th>\n",
       "      <th>self_employed</th>\n",
       "      <th>loan_status</th>\n",
       "    </tr>\n",
       "  </thead>\n",
       "  <tbody>\n",
       "    <tr>\n",
       "      <th>count</th>\n",
       "      <td>4222</td>\n",
       "      <td>4222</td>\n",
       "      <td>4222</td>\n",
       "    </tr>\n",
       "    <tr>\n",
       "      <th>unique</th>\n",
       "      <td>2</td>\n",
       "      <td>2</td>\n",
       "      <td>2</td>\n",
       "    </tr>\n",
       "    <tr>\n",
       "      <th>top</th>\n",
       "      <td>Graduate</td>\n",
       "      <td>Yes</td>\n",
       "      <td>Approved</td>\n",
       "    </tr>\n",
       "    <tr>\n",
       "      <th>freq</th>\n",
       "      <td>2120</td>\n",
       "      <td>2127</td>\n",
       "      <td>2625</td>\n",
       "    </tr>\n",
       "  </tbody>\n",
       "</table>\n",
       "</div>"
      ],
      "text/plain": [
       "        education  self_employed  loan_status\n",
       "count        4222           4222         4222\n",
       "unique          2              2            2\n",
       "top      Graduate            Yes     Approved\n",
       "freq         2120           2127         2625"
      ]
     },
     "execution_count": 39,
     "metadata": {},
     "output_type": "execute_result"
    }
   ],
   "source": [
    "\n",
    "df.describe(include='object')\n"
   ]
  },
  {
   "cell_type": "code",
   "execution_count": 40,
   "id": "221d4d5e",
   "metadata": {},
   "outputs": [
    {
     "name": "stdout",
     "output_type": "stream",
     "text": [
      "['loan_id', ' no_of_dependents', ' loan_term', ' cibil_score', ' residential_assets_value', ' commercial_assets_value', ' bank_asset_value']\n"
     ]
    }
   ],
   "source": [
    "numcol = []\n",
    "for col in df.columns:\n",
    "    if df[col].dtypes == \"int64\":\n",
    "        numcol.append(col)\n",
    "    \n",
    "print(numcol)"
   ]
  },
  {
   "cell_type": "markdown",
   "id": "81c47658",
   "metadata": {},
   "source": [
    "# Scale the values of the numeric columns using scaler"
   ]
  },
  {
   "cell_type": "code",
   "execution_count": 41,
   "id": "3983067f",
   "metadata": {},
   "outputs": [
    {
     "data": {
      "text/html": [
       "<div>\n",
       "<style scoped>\n",
       "    .dataframe tbody tr th:only-of-type {\n",
       "        vertical-align: middle;\n",
       "    }\n",
       "\n",
       "    .dataframe tbody tr th {\n",
       "        vertical-align: top;\n",
       "    }\n",
       "\n",
       "    .dataframe thead th {\n",
       "        text-align: right;\n",
       "    }\n",
       "</style>\n",
       "<table border=\"1\" class=\"dataframe\">\n",
       "  <thead>\n",
       "    <tr style=\"text-align: right;\">\n",
       "      <th></th>\n",
       "      <th>loan_id</th>\n",
       "      <th>no_of_dependents</th>\n",
       "      <th>education</th>\n",
       "      <th>self_employed</th>\n",
       "      <th>loan_term</th>\n",
       "      <th>cibil_score</th>\n",
       "      <th>residential_assets_value</th>\n",
       "      <th>commercial_assets_value</th>\n",
       "      <th>bank_asset_value</th>\n",
       "      <th>loan_status</th>\n",
       "    </tr>\n",
       "  </thead>\n",
       "  <tbody>\n",
       "    <tr>\n",
       "      <th>0</th>\n",
       "      <td>0.000000</td>\n",
       "      <td>0.4</td>\n",
       "      <td>Graduate</td>\n",
       "      <td>No</td>\n",
       "      <td>0.555556</td>\n",
       "      <td>0.796667</td>\n",
       "      <td>0.085616</td>\n",
       "      <td>0.907216</td>\n",
       "      <td>0.544218</td>\n",
       "      <td>Approved</td>\n",
       "    </tr>\n",
       "    <tr>\n",
       "      <th>1</th>\n",
       "      <td>0.000234</td>\n",
       "      <td>0.0</td>\n",
       "      <td>Not Graduate</td>\n",
       "      <td>Yes</td>\n",
       "      <td>0.333333</td>\n",
       "      <td>0.195000</td>\n",
       "      <td>0.095890</td>\n",
       "      <td>0.113402</td>\n",
       "      <td>0.224490</td>\n",
       "      <td>Rejected</td>\n",
       "    </tr>\n",
       "    <tr>\n",
       "      <th>2</th>\n",
       "      <td>0.000469</td>\n",
       "      <td>0.6</td>\n",
       "      <td>Graduate</td>\n",
       "      <td>No</td>\n",
       "      <td>1.000000</td>\n",
       "      <td>0.343333</td>\n",
       "      <td>0.246575</td>\n",
       "      <td>0.231959</td>\n",
       "      <td>0.870748</td>\n",
       "      <td>Rejected</td>\n",
       "    </tr>\n",
       "    <tr>\n",
       "      <th>3</th>\n",
       "      <td>0.000703</td>\n",
       "      <td>0.6</td>\n",
       "      <td>Graduate</td>\n",
       "      <td>No</td>\n",
       "      <td>0.333333</td>\n",
       "      <td>0.278333</td>\n",
       "      <td>0.626712</td>\n",
       "      <td>0.170103</td>\n",
       "      <td>0.537415</td>\n",
       "      <td>Rejected</td>\n",
       "    </tr>\n",
       "    <tr>\n",
       "      <th>4</th>\n",
       "      <td>0.000937</td>\n",
       "      <td>1.0</td>\n",
       "      <td>Not Graduate</td>\n",
       "      <td>Yes</td>\n",
       "      <td>1.000000</td>\n",
       "      <td>0.136667</td>\n",
       "      <td>0.428082</td>\n",
       "      <td>0.422680</td>\n",
       "      <td>0.340136</td>\n",
       "      <td>Rejected</td>\n",
       "    </tr>\n",
       "  </tbody>\n",
       "</table>\n",
       "</div>"
      ],
      "text/plain": [
       "    loan_id   no_of_dependents      education  self_employed   loan_term  \\\n",
       "0  0.000000                0.4       Graduate             No    0.555556   \n",
       "1  0.000234                0.0   Not Graduate            Yes    0.333333   \n",
       "2  0.000469                0.6       Graduate             No    1.000000   \n",
       "3  0.000703                0.6       Graduate             No    0.333333   \n",
       "4  0.000937                1.0   Not Graduate            Yes    1.000000   \n",
       "\n",
       "    cibil_score   residential_assets_value   commercial_assets_value  \\\n",
       "0      0.796667                   0.085616                  0.907216   \n",
       "1      0.195000                   0.095890                  0.113402   \n",
       "2      0.343333                   0.246575                  0.231959   \n",
       "3      0.278333                   0.626712                  0.170103   \n",
       "4      0.136667                   0.428082                  0.422680   \n",
       "\n",
       "    bank_asset_value  loan_status  \n",
       "0           0.544218     Approved  \n",
       "1           0.224490     Rejected  \n",
       "2           0.870748     Rejected  \n",
       "3           0.537415     Rejected  \n",
       "4           0.340136     Rejected  "
      ]
     },
     "execution_count": 41,
     "metadata": {},
     "output_type": "execute_result"
    }
   ],
   "source": [
    "scaler = MinMaxScaler()\n",
    "for col in numcol:\n",
    "    df[[col]] = scaler.fit_transform(df[[col]])\n",
    "    \n",
    "df.head()"
   ]
  },
  {
   "cell_type": "markdown",
   "id": "cf3082c6",
   "metadata": {},
   "source": [
    "# Convert the categorcal value to numeric value using LabelEncoder"
   ]
  },
  {
   "cell_type": "code",
   "execution_count": 42,
   "id": "53e87016",
   "metadata": {},
   "outputs": [
    {
     "data": {
      "text/html": [
       "<div>\n",
       "<style scoped>\n",
       "    .dataframe tbody tr th:only-of-type {\n",
       "        vertical-align: middle;\n",
       "    }\n",
       "\n",
       "    .dataframe tbody tr th {\n",
       "        vertical-align: top;\n",
       "    }\n",
       "\n",
       "    .dataframe thead th {\n",
       "        text-align: right;\n",
       "    }\n",
       "</style>\n",
       "<table border=\"1\" class=\"dataframe\">\n",
       "  <thead>\n",
       "    <tr style=\"text-align: right;\">\n",
       "      <th></th>\n",
       "      <th>loan_id</th>\n",
       "      <th>no_of_dependents</th>\n",
       "      <th>education</th>\n",
       "      <th>self_employed</th>\n",
       "      <th>loan_term</th>\n",
       "      <th>cibil_score</th>\n",
       "      <th>residential_assets_value</th>\n",
       "      <th>commercial_assets_value</th>\n",
       "      <th>bank_asset_value</th>\n",
       "      <th>loan_status</th>\n",
       "    </tr>\n",
       "  </thead>\n",
       "  <tbody>\n",
       "    <tr>\n",
       "      <th>0</th>\n",
       "      <td>0.000000</td>\n",
       "      <td>0.4</td>\n",
       "      <td>0</td>\n",
       "      <td>0</td>\n",
       "      <td>0.555556</td>\n",
       "      <td>0.796667</td>\n",
       "      <td>0.085616</td>\n",
       "      <td>0.907216</td>\n",
       "      <td>0.544218</td>\n",
       "      <td>0</td>\n",
       "    </tr>\n",
       "    <tr>\n",
       "      <th>1</th>\n",
       "      <td>0.000234</td>\n",
       "      <td>0.0</td>\n",
       "      <td>1</td>\n",
       "      <td>1</td>\n",
       "      <td>0.333333</td>\n",
       "      <td>0.195000</td>\n",
       "      <td>0.095890</td>\n",
       "      <td>0.113402</td>\n",
       "      <td>0.224490</td>\n",
       "      <td>1</td>\n",
       "    </tr>\n",
       "    <tr>\n",
       "      <th>2</th>\n",
       "      <td>0.000469</td>\n",
       "      <td>0.6</td>\n",
       "      <td>0</td>\n",
       "      <td>0</td>\n",
       "      <td>1.000000</td>\n",
       "      <td>0.343333</td>\n",
       "      <td>0.246575</td>\n",
       "      <td>0.231959</td>\n",
       "      <td>0.870748</td>\n",
       "      <td>1</td>\n",
       "    </tr>\n",
       "    <tr>\n",
       "      <th>3</th>\n",
       "      <td>0.000703</td>\n",
       "      <td>0.6</td>\n",
       "      <td>0</td>\n",
       "      <td>0</td>\n",
       "      <td>0.333333</td>\n",
       "      <td>0.278333</td>\n",
       "      <td>0.626712</td>\n",
       "      <td>0.170103</td>\n",
       "      <td>0.537415</td>\n",
       "      <td>1</td>\n",
       "    </tr>\n",
       "    <tr>\n",
       "      <th>4</th>\n",
       "      <td>0.000937</td>\n",
       "      <td>1.0</td>\n",
       "      <td>1</td>\n",
       "      <td>1</td>\n",
       "      <td>1.000000</td>\n",
       "      <td>0.136667</td>\n",
       "      <td>0.428082</td>\n",
       "      <td>0.422680</td>\n",
       "      <td>0.340136</td>\n",
       "      <td>1</td>\n",
       "    </tr>\n",
       "  </tbody>\n",
       "</table>\n",
       "</div>"
      ],
      "text/plain": [
       "    loan_id   no_of_dependents   education   self_employed   loan_term  \\\n",
       "0  0.000000                0.4           0               0    0.555556   \n",
       "1  0.000234                0.0           1               1    0.333333   \n",
       "2  0.000469                0.6           0               0    1.000000   \n",
       "3  0.000703                0.6           0               0    0.333333   \n",
       "4  0.000937                1.0           1               1    1.000000   \n",
       "\n",
       "    cibil_score   residential_assets_value   commercial_assets_value  \\\n",
       "0      0.796667                   0.085616                  0.907216   \n",
       "1      0.195000                   0.095890                  0.113402   \n",
       "2      0.343333                   0.246575                  0.231959   \n",
       "3      0.278333                   0.626712                  0.170103   \n",
       "4      0.136667                   0.428082                  0.422680   \n",
       "\n",
       "    bank_asset_value   loan_status  \n",
       "0           0.544218             0  \n",
       "1           0.224490             1  \n",
       "2           0.870748             1  \n",
       "3           0.537415             1  \n",
       "4           0.340136             1  "
      ]
     },
     "execution_count": 42,
     "metadata": {},
     "output_type": "execute_result"
    }
   ],
   "source": [
    "le = LabelEncoder()\n",
    "df[\" education\"]=le.fit_transform(df[\" education\"])\n",
    "df[\" self_employed\"]=le.fit_transform(df[\" self_employed\"])\n",
    "df[\" loan_status\"]=le.fit_transform(df[\" loan_status\"])\n",
    "df.head()"
   ]
  },
  {
   "cell_type": "markdown",
   "id": "15c1d4ea",
   "metadata": {},
   "source": [
    "# Plot the bar diagram of each of the the columns to be sure about wheather the data is biased or not"
   ]
  },
  {
   "cell_type": "code",
   "execution_count": null,
   "id": "622ab50f",
   "metadata": {},
   "outputs": [],
   "source": [
    "\n",
    "num_bins = 10\n",
    "num_columns = len(df.columns)\n",
    "\n",
    "# Calculate the number of rows needed for the subplots\n",
    "num_rows = (num_columns + 2) // 3  # Adding 2 ensures there's enough space for the last row if there are remaining columns\n",
    "\n",
    "# Create subplots with the specified number of rows and columns\n",
    "fig, axes = plt.subplots(nrows=num_rows, ncols=3, figsize=(18, 6 * num_rows))\n",
    "\n",
    "# Flatten the 2D array of axes into a 1D array\n",
    "axes = axes.flatten()\n",
    "\n",
    "# Iterate through each column in the DataFrame and create histograms\n",
    "for i, column in enumerate(df.columns):\n",
    "    ax = axes[i]  # Get the current axis\n",
    "    df[column].hist(bins=num_bins, ax=ax)  # Create a histogram for the current column\n",
    "    ax.set_title(f'Histogram of {column}')\n",
    "    ax.set_xlabel(column)\n",
    "    ax.set_ylabel('Frequency')\n",
    "\n",
    "# Hide any remaining empty subplots\n",
    "for i in range(num_columns, num_rows * 3):\n",
    "    fig.delaxes(axes[i])\n",
    "\n",
    "plt.tight_layout()\n",
    "plt.show()\n",
    "\n"
   ]
  },
  {
   "cell_type": "markdown",
   "id": "7beddc1b",
   "metadata": {},
   "source": [
    "# Remove a  solution coloumn to make a train data"
   ]
  },
  {
   "cell_type": "code",
   "execution_count": null,
   "id": "366173ab",
   "metadata": {},
   "outputs": [],
   "source": [
    "df.describe()\n"
   ]
  },
  {
   "cell_type": "code",
   "execution_count": null,
   "id": "ce1a435a",
   "metadata": {},
   "outputs": [],
   "source": [
    "df"
   ]
  },
  {
   "cell_type": "code",
   "execution_count": null,
   "id": "4b870961",
   "metadata": {},
   "outputs": [],
   "source": [
    "\n",
    "# Assuming you have a DataFrame named 'df' with a column 'residential_assets_value'\n",
    "# Calculate the mean of the 'residential_assets_value' column\n",
    "mean_value = df[' residential_assets_value'].mean()\n",
    "\n",
    "# Replace values greater than the mean with the mean\n",
    "df.loc[df[' residential_assets_value'] > np.percentile(df[' residential_assets_value'], 75), ' residential_assets_value'] = mean_value\n",
    "df.loc[df[' residential_assets_value'] < np.percentile(df[' residential_assets_value'], 25), ' residential_assets_value'] = mean_value\n",
    "\n",
    "\n",
    "mean_value = df[' commercial_assets_value'].mean()\n",
    "\n",
    "# Replace values greater than the mean with the mean\n",
    "df.loc[df[' commercial_assets_value'] > np.percentile(df[' commercial_assets_value'], 75), ' commercial_assets_value'] = mean_value\n",
    "df.loc[df[' residential_assets_value'] < np.percentile(df[' residential_assets_value'], 25), ' residential_assets_value'] = mean_value\n",
    "\n"
   ]
  },
  {
   "cell_type": "code",
   "execution_count": null,
   "id": "e2af534b",
   "metadata": {},
   "outputs": [],
   "source": [
    "\n",
    "num_bins = 10\n",
    "num_columns = len(df.columns)\n",
    "\n",
    "# Calculate the number of rows needed for the subplots\n",
    "num_rows = (num_columns + 2) // 3  # Adding 2 ensures there's enough space for the last row if there are remaining columns\n",
    "\n",
    "# Create subplots with the specified number of rows and columns\n",
    "fig, axes = plt.subplots(nrows=num_rows, ncols=3, figsize=(18, 6 * num_rows))\n",
    "\n",
    "# Flatten the 2D array of axes into a 1D array\n",
    "axes = axes.flatten()\n",
    "\n",
    "# Iterate through each column in the DataFrame and create histograms\n",
    "for i, column in enumerate(df.columns):\n",
    "    ax = axes[i]  # Get the current axis\n",
    "    df[column].hist(bins=num_bins, ax=ax)  # Create a histogram for the current column\n",
    "    ax.set_title(f'Histogram of {column}')\n",
    "    ax.set_xlabel(column)\n",
    "    ax.set_ylabel('Frequency')\n",
    "\n",
    "# Hide any remaining empty subplots\n",
    "for i in range(num_columns, num_rows * 3):\n",
    "    fig.delaxes(axes[i])\n",
    "\n",
    "plt.tight_layout()\n",
    "plt.show()\n",
    "\n"
   ]
  },
  {
   "cell_type": "code",
   "execution_count": null,
   "id": "44dace76",
   "metadata": {},
   "outputs": [],
   "source": [
    "df.describe()"
   ]
  },
  {
   "cell_type": "code",
   "execution_count": null,
   "id": "d9ea8789",
   "metadata": {},
   "outputs": [],
   "source": [
    "\n",
    "df = df.drop('loan_id',axis=1)\n",
    "X = df.drop(\" loan_status\",axis = 1)\n",
    "y = df[' loan_status']\n",
    "X"
   ]
  },
  {
   "cell_type": "code",
   "execution_count": null,
   "id": "f8d63b21",
   "metadata": {},
   "outputs": [],
   "source": [
    "x_train,x_test,y_train,y_test = train_test_split(X,y,shuffle = True,random_state=42,test_size=0.3)\n",
    "X"
   ]
  },
  {
   "cell_type": "code",
   "execution_count": null,
   "id": "77ddb155",
   "metadata": {},
   "outputs": [],
   "source": [
    "x_train.shape,x_test.shape"
   ]
  },
  {
   "cell_type": "code",
   "execution_count": null,
   "id": "4a7b1ef5",
   "metadata": {},
   "outputs": [],
   "source": [
    "models = {\n",
    "    'Logistic Regression':LogisticRegression(),\n",
    "    'RandomForestClassifier': RandomForestClassifier(),\n",
    "    'DecisionTreeClassifer':DecisionTreeClassifier(),\n",
    "    'SVM':SVC(),\n",
    "    'KNN': KNeighborsClassifier()\n",
    "}"
   ]
  },
  {
   "cell_type": "markdown",
   "id": "905f74ec",
   "metadata": {},
   "source": [
    "# Getting the accurecy of all the models defined"
   ]
  },
  {
   "cell_type": "code",
   "execution_count": null,
   "id": "c61a1ef6",
   "metadata": {},
   "outputs": [],
   "source": [
    "import matplotlib.pyplot as plt\n",
    "import numpy as np\n",
    "from sklearn.metrics import accuracy_score\n",
    "\n",
    "# Assuming you have a list of models named 'models'\n",
    "# Assuming you have training and testing data 'x_train', 'y_train', 'x_test', 'y_test'\n",
    "\n",
    "# Create lists to store model names, training accuracies, and testing accuracies\n",
    "model_names = []\n",
    "train_accuracies = []\n",
    "test_accuracies = []\n",
    "\n",
    "# Loop through your models\n",
    "for i in range(len(models)):\n",
    "    model = list(models.values())[i]\n",
    "    print(model)\n",
    "    model.fit(x_train, y_train)\n",
    "\n",
    "    train_preds = model.predict(x_train)\n",
    "    test_preds = model.predict(x_test)\n",
    "\n",
    "    model_name = list(models.keys())[i]\n",
    "    train_accuracy = accuracy_score(y_train, train_preds)\n",
    "    test_accuracy = accuracy_score(y_test, test_preds)\n",
    "    \n",
    "    # Append data to lists\n",
    "    model_names.append(model_name)\n",
    "    train_accuracies.append(train_accuracy)\n",
    "    test_accuracies.append(test_accuracy)\n",
    "\n",
    "# Calculate y-axis limits\n",
    "y_max = max(max(train_accuracies), max(test_accuracies)) + 0.05\n",
    "y_min = min(min(train_accuracies), min(test_accuracies)) - 0.05\n",
    "\n",
    "# Increase figure size\n",
    "plt.figure(figsize=(10, 6))\n",
    "\n",
    "# Create a bar plot\n",
    "x = np.arange(len(model_names))\n",
    "width = 0.35\n",
    "\n",
    "fig, ax = plt.subplots()\n",
    "rects1 = ax.bar(x - width/2, train_accuracies, width, label='Train Accuracy')\n",
    "rects2 = ax.bar(x + width/2, test_accuracies, width, label='Test Accuracy')\n",
    "\n",
    "# Set y-axis limits\n",
    "ax.set_ylim([y_min, y_max])\n",
    "\n",
    "# Add some text for labels, title, and custom x-axis tick labels, etc.\n",
    "ax.set_ylabel('Accuracy')\n",
    "ax.set_title('Model Accuracies')\n",
    "ax.set_xticks(x)\n",
    "ax.set_xticklabels(model_names, rotation=45, ha=\"right\")\n",
    "ax.legend()\n",
    "\n",
    "# Display the accuracy values on top of the bars\n",
    "def autolabel(rects):\n",
    "    for rect in rects:\n",
    "        height = rect.get_height()\n",
    "        ax.annotate('{}'.format(round(height, 2)),\n",
    "                    xy=(rect.get_x() + rect.get_width() / 2, height),\n",
    "                    xytext=(0, 3),  # 3 points vertical offset\n",
    "                    textcoords=\"offset points\",\n",
    "                    ha='center', va='bottom')\n",
    "\n",
    "autolabel(rects1)\n",
    "autolabel(rects2)\n",
    "\n",
    "fig.tight_layout()\n",
    "\n",
    "plt.show()\n"
   ]
  },
  {
   "cell_type": "code",
   "execution_count": null,
   "id": "e9dad107",
   "metadata": {},
   "outputs": [],
   "source": [
    "df1_test.loc[:5,' loan_status']"
   ]
  },
  {
   "cell_type": "markdown",
   "id": "ffb3ef2f",
   "metadata": {},
   "source": [
    "# Match the predicted values with the real value of the dataset manually"
   ]
  },
  {
   "cell_type": "code",
   "execution_count": null,
   "id": "24a2e36e",
   "metadata": {},
   "outputs": [],
   "source": [
    "models\n",
    "for key, value in models.items():\n",
    "    prediction = value.predict(X[:5])\n",
    "    print(f\"Model: {key}, Prediction: {prediction}\")\n",
    "\n",
    "    "
   ]
  },
  {
   "cell_type": "code",
   "execution_count": null,
   "id": "88467e61",
   "metadata": {},
   "outputs": [],
   "source": [
    "x_train.shape"
   ]
  },
  {
   "cell_type": "markdown",
   "id": "e2d76064",
   "metadata": {},
   "source": [
    "# Train the model using simple neural network"
   ]
  },
  {
   "cell_type": "code",
   "execution_count": null,
   "id": "729eb9d2",
   "metadata": {},
   "outputs": [],
   "source": [
    "import tensorflow as tf\n",
    "from tensorflow.keras.models import Sequential\n",
    "from tensorflow.keras.layers import Dense, Dropout\n",
    "from sklearn.model_selection import train_test_split\n",
    "from sklearn.metrics import classification_report\n",
    "\n",
    "model = Sequential([\n",
    "    Dense(64, activation='relu', input_shape=(8,)),\n",
    "    Dropout(0.5),\n",
    "    Dense(32, activation='relu'),\n",
    "    Dropout(0.5),\n",
    "    Dense(1, activation='sigmoid')  # Binary classification output\n",
    "])\n",
    "\n",
    "\n",
    "# Compile the model\n",
    "model.compile(optimizer='adam', loss='binary_crossentropy', metrics=['accuracy'])\n",
    "\n",
    "# Train the model\n",
    "model.fit(x_train, y_train, epochs=20, batch_size=32, validation_data=(x_test, y_test))\n",
    "\n",
    "# Evaluate the model\n",
    "test_loss, test_accuracy = model.evaluate(x_test, y_test)\n",
    "print(f\"Validation accuracy: {test_accuracy}\")"
   ]
  },
  {
   "cell_type": "code",
   "execution_count": null,
   "id": "85a3e2fd",
   "metadata": {},
   "outputs": [],
   "source": [
    "y_pred = model.predict(x_test)\n",
    "y_pred = (y_pred > 0.5)  # Convert probabilities to binary predictions\n",
    "\n",
    "classification_rep = classification_report(y_test, y_pred)\n",
    "print(\"Classification Report:\\n\", classification_rep)"
   ]
  },
  {
   "cell_type": "code",
   "execution_count": null,
   "id": "473d8a60",
   "metadata": {},
   "outputs": [],
   "source": []
  }
 ],
 "metadata": {
  "kernelspec": {
   "display_name": "Python 3 (ipykernel)",
   "language": "python",
   "name": "python3"
  },
  "language_info": {
   "codemirror_mode": {
    "name": "ipython",
    "version": 3
   },
   "file_extension": ".py",
   "mimetype": "text/x-python",
   "name": "python",
   "nbconvert_exporter": "python",
   "pygments_lexer": "ipython3",
   "version": "3.9.12"
  }
 },
 "nbformat": 4,
 "nbformat_minor": 5
}
